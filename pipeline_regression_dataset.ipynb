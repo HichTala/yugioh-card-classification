{
 "cells": [
  {
   "metadata": {},
   "cell_type": "markdown",
   "source": "# Imports",
   "id": "2eedd29429c5eaa"
  },
  {
   "cell_type": "code",
   "id": "initial_id",
   "metadata": {
    "collapsed": true,
    "ExecuteTime": {
     "end_time": "2025-04-03T12:44:46.910078Z",
     "start_time": "2025-04-03T12:44:46.368602Z"
    }
   },
   "source": [
    "from datasets import load_dataset\n",
    "import cv2\n",
    "import numpy as np\n",
    "import math\n",
    "import json\n",
    "import random\n",
    "import os\n",
    "from PIL import Image"
   ],
   "outputs": [
    {
     "name": "stderr",
     "output_type": "stream",
     "text": [
      "/home/hicham/miniconda3/envs/phd/lib/python3.12/site-packages/tqdm/auto.py:21: TqdmWarning: IProgress not found. Please update jupyter and ipywidgets. See https://ipywidgets.readthedocs.io/en/stable/user_install.html\n",
      "  from .autonotebook import tqdm as notebook_tqdm\n"
     ]
    }
   ],
   "execution_count": 2
  },
  {
   "metadata": {},
   "cell_type": "markdown",
   "source": "# Shuffle Dataset",
   "id": "937768a693e198bf"
  },
  {
   "metadata": {
    "ExecuteTime": {
     "end_time": "2025-04-03T07:50:02.264893Z",
     "start_time": "2025-04-03T07:36:33.576732Z"
    }
   },
   "cell_type": "code",
   "source": "data = load_dataset(\"benjamin-paine/imagenet-1k-256x256\")",
   "id": "ea17f98d8527622",
   "outputs": [
    {
     "name": "stderr",
     "output_type": "stream",
     "text": [
      "Downloading data: 100%|██████████| 40/40 [11:00<00:00, 16.50s/files]\n",
      "Generating train split: 100%|██████████| 1281167/1281167 [00:49<00:00, 25896.20 examples/s]\n",
      "Generating validation split: 100%|██████████| 50000/50000 [00:01<00:00, 27117.69 examples/s]\n",
      "Generating test split: 100%|██████████| 100000/100000 [00:03<00:00, 26844.55 examples/s]\n"
     ]
    }
   ],
   "execution_count": 3
  },
  {
   "metadata": {
    "ExecuteTime": {
     "end_time": "2025-04-03T08:37:26.379254Z",
     "start_time": "2025-04-03T08:37:25.957533Z"
    }
   },
   "cell_type": "code",
   "source": "shuffled_data = data['train'].shuffle()",
   "id": "1f864d8e02e9c439",
   "outputs": [],
   "execution_count": 4
  },
  {
   "metadata": {
    "jupyter": {
     "is_executing": true
    },
    "ExecuteTime": {
     "end_time": "2025-04-02T14:02:23.456367813Z",
     "start_time": "2025-04-02T14:02:03.325305Z"
    }
   },
   "cell_type": "code",
   "source": [
    "# nb_image = 100000\n",
    "# for i, single_data in enumerate(shuffled_data):\n",
    "#     if i == nb_image:\n",
    "#         break\n",
    "#     image = single_data[\"image\"].convert('RGB')\n",
    "#     image = np.array(image)[:, :, ::-1].copy()\n",
    "#\n",
    "#     image = cv2.resize(image, (640, 640), interpolation=cv2.INTER_LINEAR)\n",
    "#\n",
    "#     cv2.imshow(\"\", image)\n",
    "#     cv2.waitKey(0)"
   ],
   "id": "8d9f1d3f04493e37",
   "outputs": [
    {
     "name": "stderr",
     "output_type": "stream",
     "text": [
      "QObject::moveToThread: Current thread (0x31272610) is not the object's thread (0x316cf560).\n",
      "Cannot move to target thread (0x31272610)\n",
      "\n",
      "QObject::moveToThread: Current thread (0x31272610) is not the object's thread (0x316cf560).\n",
      "Cannot move to target thread (0x31272610)\n",
      "\n",
      "QObject::moveToThread: Current thread (0x31272610) is not the object's thread (0x316cf560).\n",
      "Cannot move to target thread (0x31272610)\n",
      "\n",
      "QObject::moveToThread: Current thread (0x31272610) is not the object's thread (0x316cf560).\n",
      "Cannot move to target thread (0x31272610)\n",
      "\n",
      "QObject::moveToThread: Current thread (0x31272610) is not the object's thread (0x316cf560).\n",
      "Cannot move to target thread (0x31272610)\n",
      "\n",
      "QObject::moveToThread: Current thread (0x31272610) is not the object's thread (0x316cf560).\n",
      "Cannot move to target thread (0x31272610)\n",
      "\n",
      "QObject::moveToThread: Current thread (0x31272610) is not the object's thread (0x316cf560).\n",
      "Cannot move to target thread (0x31272610)\n",
      "\n",
      "QObject::moveToThread: Current thread (0x31272610) is not the object's thread (0x316cf560).\n",
      "Cannot move to target thread (0x31272610)\n",
      "\n",
      "QObject::moveToThread: Current thread (0x31272610) is not the object's thread (0x316cf560).\n",
      "Cannot move to target thread (0x31272610)\n",
      "\n",
      "QObject::moveToThread: Current thread (0x31272610) is not the object's thread (0x316cf560).\n",
      "Cannot move to target thread (0x31272610)\n",
      "\n",
      "QObject::moveToThread: Current thread (0x31272610) is not the object's thread (0x316cf560).\n",
      "Cannot move to target thread (0x31272610)\n",
      "\n",
      "QObject::moveToThread: Current thread (0x31272610) is not the object's thread (0x316cf560).\n",
      "Cannot move to target thread (0x31272610)\n",
      "\n",
      "QObject::moveToThread: Current thread (0x31272610) is not the object's thread (0x316cf560).\n",
      "Cannot move to target thread (0x31272610)\n",
      "\n",
      "QObject::moveToThread: Current thread (0x31272610) is not the object's thread (0x316cf560).\n",
      "Cannot move to target thread (0x31272610)\n",
      "\n",
      "QObject::moveToThread: Current thread (0x31272610) is not the object's thread (0x316cf560).\n",
      "Cannot move to target thread (0x31272610)\n",
      "\n",
      "QObject::moveToThread: Current thread (0x31272610) is not the object's thread (0x316cf560).\n",
      "Cannot move to target thread (0x31272610)\n",
      "\n",
      "QObject::moveToThread: Current thread (0x31272610) is not the object's thread (0x316cf560).\n",
      "Cannot move to target thread (0x31272610)\n",
      "\n",
      "QObject::moveToThread: Current thread (0x31272610) is not the object's thread (0x316cf560).\n",
      "Cannot move to target thread (0x31272610)\n",
      "\n",
      "QObject::moveToThread: Current thread (0x31272610) is not the object's thread (0x316cf560).\n",
      "Cannot move to target thread (0x31272610)\n",
      "\n",
      "QObject::moveToThread: Current thread (0x31272610) is not the object's thread (0x316cf560).\n",
      "Cannot move to target thread (0x31272610)\n",
      "\n",
      "QObject::moveToThread: Current thread (0x31272610) is not the object's thread (0x316cf560).\n",
      "Cannot move to target thread (0x31272610)\n",
      "\n",
      "QObject::moveToThread: Current thread (0x31272610) is not the object's thread (0x316cf560).\n",
      "Cannot move to target thread (0x31272610)\n",
      "\n",
      "QObject::moveToThread: Current thread (0x31272610) is not the object's thread (0x316cf560).\n",
      "Cannot move to target thread (0x31272610)\n",
      "\n",
      "QObject::moveToThread: Current thread (0x31272610) is not the object's thread (0x316cf560).\n",
      "Cannot move to target thread (0x31272610)\n",
      "\n",
      "QObject::moveToThread: Current thread (0x31272610) is not the object's thread (0x316cf560).\n",
      "Cannot move to target thread (0x31272610)\n",
      "\n",
      "QObject::moveToThread: Current thread (0x31272610) is not the object's thread (0x316cf560).\n",
      "Cannot move to target thread (0x31272610)\n",
      "\n",
      "QObject::moveToThread: Current thread (0x31272610) is not the object's thread (0x316cf560).\n",
      "Cannot move to target thread (0x31272610)\n",
      "\n",
      "QObject::moveToThread: Current thread (0x31272610) is not the object's thread (0x316cf560).\n",
      "Cannot move to target thread (0x31272610)\n",
      "\n",
      "QObject::moveToThread: Current thread (0x31272610) is not the object's thread (0x316cf560).\n",
      "Cannot move to target thread (0x31272610)\n",
      "\n",
      "QObject::moveToThread: Current thread (0x31272610) is not the object's thread (0x316cf560).\n",
      "Cannot move to target thread (0x31272610)\n",
      "\n",
      "QObject::moveToThread: Current thread (0x31272610) is not the object's thread (0x316cf560).\n",
      "Cannot move to target thread (0x31272610)\n",
      "\n",
      "QObject::moveToThread: Current thread (0x31272610) is not the object's thread (0x316cf560).\n",
      "Cannot move to target thread (0x31272610)\n",
      "\n",
      "QObject::moveToThread: Current thread (0x31272610) is not the object's thread (0x316cf560).\n",
      "Cannot move to target thread (0x31272610)\n",
      "\n",
      "QObject::moveToThread: Current thread (0x31272610) is not the object's thread (0x316cf560).\n",
      "Cannot move to target thread (0x31272610)\n",
      "\n",
      "QObject::moveToThread: Current thread (0x31272610) is not the object's thread (0x316cf560).\n",
      "Cannot move to target thread (0x31272610)\n",
      "\n",
      "QObject::moveToThread: Current thread (0x31272610) is not the object's thread (0x316cf560).\n",
      "Cannot move to target thread (0x31272610)\n",
      "\n",
      "QObject::moveToThread: Current thread (0x31272610) is not the object's thread (0x316cf560).\n",
      "Cannot move to target thread (0x31272610)\n",
      "\n",
      "QObject::moveToThread: Current thread (0x31272610) is not the object's thread (0x316cf560).\n",
      "Cannot move to target thread (0x31272610)\n",
      "\n",
      "QObject::moveToThread: Current thread (0x31272610) is not the object's thread (0x316cf560).\n",
      "Cannot move to target thread (0x31272610)\n",
      "\n",
      "QObject::moveToThread: Current thread (0x31272610) is not the object's thread (0x316cf560).\n",
      "Cannot move to target thread (0x31272610)\n",
      "\n",
      "QObject::moveToThread: Current thread (0x31272610) is not the object's thread (0x316cf560).\n",
      "Cannot move to target thread (0x31272610)\n",
      "\n",
      "QObject::moveToThread: Current thread (0x31272610) is not the object's thread (0x316cf560).\n",
      "Cannot move to target thread (0x31272610)\n",
      "\n",
      "QObject::moveToThread: Current thread (0x31272610) is not the object's thread (0x316cf560).\n",
      "Cannot move to target thread (0x31272610)\n",
      "\n",
      "QObject::moveToThread: Current thread (0x31272610) is not the object's thread (0x316cf560).\n",
      "Cannot move to target thread (0x31272610)\n",
      "\n",
      "QObject::moveToThread: Current thread (0x31272610) is not the object's thread (0x316cf560).\n",
      "Cannot move to target thread (0x31272610)\n",
      "\n",
      "QObject::moveToThread: Current thread (0x31272610) is not the object's thread (0x316cf560).\n",
      "Cannot move to target thread (0x31272610)\n",
      "\n",
      "QObject::moveToThread: Current thread (0x31272610) is not the object's thread (0x316cf560).\n",
      "Cannot move to target thread (0x31272610)\n",
      "\n",
      "QObject::moveToThread: Current thread (0x31272610) is not the object's thread (0x316cf560).\n",
      "Cannot move to target thread (0x31272610)\n",
      "\n",
      "QObject::moveToThread: Current thread (0x31272610) is not the object's thread (0x316cf560).\n",
      "Cannot move to target thread (0x31272610)\n",
      "\n",
      "QObject::moveToThread: Current thread (0x31272610) is not the object's thread (0x316cf560).\n",
      "Cannot move to target thread (0x31272610)\n",
      "\n",
      "QObject::moveToThread: Current thread (0x31272610) is not the object's thread (0x316cf560).\n",
      "Cannot move to target thread (0x31272610)\n",
      "\n",
      "QObject::moveToThread: Current thread (0x31272610) is not the object's thread (0x316cf560).\n",
      "Cannot move to target thread (0x31272610)\n",
      "\n",
      "QObject::moveToThread: Current thread (0x31272610) is not the object's thread (0x316cf560).\n",
      "Cannot move to target thread (0x31272610)\n",
      "\n",
      "QObject::moveToThread: Current thread (0x31272610) is not the object's thread (0x316cf560).\n",
      "Cannot move to target thread (0x31272610)\n",
      "\n",
      "QObject::moveToThread: Current thread (0x31272610) is not the object's thread (0x316cf560).\n",
      "Cannot move to target thread (0x31272610)\n",
      "\n",
      "QObject::moveToThread: Current thread (0x31272610) is not the object's thread (0x316cf560).\n",
      "Cannot move to target thread (0x31272610)\n",
      "\n",
      "QObject::moveToThread: Current thread (0x31272610) is not the object's thread (0x316cf560).\n",
      "Cannot move to target thread (0x31272610)\n",
      "\n",
      "QObject::moveToThread: Current thread (0x31272610) is not the object's thread (0x316cf560).\n",
      "Cannot move to target thread (0x31272610)\n",
      "\n",
      "QObject::moveToThread: Current thread (0x31272610) is not the object's thread (0x316cf560).\n",
      "Cannot move to target thread (0x31272610)\n",
      "\n",
      "QObject::moveToThread: Current thread (0x31272610) is not the object's thread (0x316cf560).\n",
      "Cannot move to target thread (0x31272610)\n",
      "\n",
      "QObject::moveToThread: Current thread (0x31272610) is not the object's thread (0x316cf560).\n",
      "Cannot move to target thread (0x31272610)\n",
      "\n",
      "QObject::moveToThread: Current thread (0x31272610) is not the object's thread (0x316cf560).\n",
      "Cannot move to target thread (0x31272610)\n",
      "\n",
      "QObject::moveToThread: Current thread (0x31272610) is not the object's thread (0x316cf560).\n",
      "Cannot move to target thread (0x31272610)\n",
      "\n",
      "QObject::moveToThread: Current thread (0x31272610) is not the object's thread (0x316cf560).\n",
      "Cannot move to target thread (0x31272610)\n",
      "\n",
      "QObject::moveToThread: Current thread (0x31272610) is not the object's thread (0x316cf560).\n",
      "Cannot move to target thread (0x31272610)\n",
      "\n",
      "QObject::moveToThread: Current thread (0x31272610) is not the object's thread (0x316cf560).\n",
      "Cannot move to target thread (0x31272610)\n",
      "\n",
      "QObject::moveToThread: Current thread (0x31272610) is not the object's thread (0x316cf560).\n",
      "Cannot move to target thread (0x31272610)\n",
      "\n",
      "QObject::moveToThread: Current thread (0x31272610) is not the object's thread (0x316cf560).\n",
      "Cannot move to target thread (0x31272610)\n",
      "\n",
      "QObject::moveToThread: Current thread (0x31272610) is not the object's thread (0x316cf560).\n",
      "Cannot move to target thread (0x31272610)\n",
      "\n",
      "QObject::moveToThread: Current thread (0x31272610) is not the object's thread (0x316cf560).\n",
      "Cannot move to target thread (0x31272610)\n",
      "\n",
      "QObject::moveToThread: Current thread (0x31272610) is not the object's thread (0x316cf560).\n",
      "Cannot move to target thread (0x31272610)\n",
      "\n",
      "QObject::moveToThread: Current thread (0x31272610) is not the object's thread (0x316cf560).\n",
      "Cannot move to target thread (0x31272610)\n",
      "\n",
      "QObject::moveToThread: Current thread (0x31272610) is not the object's thread (0x316cf560).\n",
      "Cannot move to target thread (0x31272610)\n",
      "\n",
      "QObject::moveToThread: Current thread (0x31272610) is not the object's thread (0x316cf560).\n",
      "Cannot move to target thread (0x31272610)\n",
      "\n",
      "QObject::moveToThread: Current thread (0x31272610) is not the object's thread (0x316cf560).\n",
      "Cannot move to target thread (0x31272610)\n",
      "\n",
      "QObject::moveToThread: Current thread (0x31272610) is not the object's thread (0x316cf560).\n",
      "Cannot move to target thread (0x31272610)\n",
      "\n",
      "QObject::moveToThread: Current thread (0x31272610) is not the object's thread (0x316cf560).\n",
      "Cannot move to target thread (0x31272610)\n",
      "\n",
      "QObject::moveToThread: Current thread (0x31272610) is not the object's thread (0x316cf560).\n",
      "Cannot move to target thread (0x31272610)\n",
      "\n",
      "QObject::moveToThread: Current thread (0x31272610) is not the object's thread (0x316cf560).\n",
      "Cannot move to target thread (0x31272610)\n",
      "\n",
      "QObject::moveToThread: Current thread (0x31272610) is not the object's thread (0x316cf560).\n",
      "Cannot move to target thread (0x31272610)\n",
      "\n",
      "QObject::moveToThread: Current thread (0x31272610) is not the object's thread (0x316cf560).\n",
      "Cannot move to target thread (0x31272610)\n",
      "\n",
      "QObject::moveToThread: Current thread (0x31272610) is not the object's thread (0x316cf560).\n",
      "Cannot move to target thread (0x31272610)\n",
      "\n",
      "QObject::moveToThread: Current thread (0x31272610) is not the object's thread (0x316cf560).\n",
      "Cannot move to target thread (0x31272610)\n",
      "\n",
      "QObject::moveToThread: Current thread (0x31272610) is not the object's thread (0x316cf560).\n",
      "Cannot move to target thread (0x31272610)\n",
      "\n",
      "QObject::moveToThread: Current thread (0x31272610) is not the object's thread (0x316cf560).\n",
      "Cannot move to target thread (0x31272610)\n",
      "\n",
      "QObject::moveToThread: Current thread (0x31272610) is not the object's thread (0x316cf560).\n",
      "Cannot move to target thread (0x31272610)\n",
      "\n",
      "QObject::moveToThread: Current thread (0x31272610) is not the object's thread (0x316cf560).\n",
      "Cannot move to target thread (0x31272610)\n",
      "\n",
      "QObject::moveToThread: Current thread (0x31272610) is not the object's thread (0x316cf560).\n",
      "Cannot move to target thread (0x31272610)\n",
      "\n",
      "QObject::moveToThread: Current thread (0x31272610) is not the object's thread (0x316cf560).\n",
      "Cannot move to target thread (0x31272610)\n",
      "\n",
      "QObject::moveToThread: Current thread (0x31272610) is not the object's thread (0x316cf560).\n",
      "Cannot move to target thread (0x31272610)\n",
      "\n",
      "QObject::moveToThread: Current thread (0x31272610) is not the object's thread (0x316cf560).\n",
      "Cannot move to target thread (0x31272610)\n",
      "\n",
      "QObject::moveToThread: Current thread (0x31272610) is not the object's thread (0x316cf560).\n",
      "Cannot move to target thread (0x31272610)\n",
      "\n",
      "QObject::moveToThread: Current thread (0x31272610) is not the object's thread (0x316cf560).\n",
      "Cannot move to target thread (0x31272610)\n",
      "\n",
      "QObject::moveToThread: Current thread (0x31272610) is not the object's thread (0x316cf560).\n",
      "Cannot move to target thread (0x31272610)\n",
      "\n",
      "QObject::moveToThread: Current thread (0x31272610) is not the object's thread (0x316cf560).\n",
      "Cannot move to target thread (0x31272610)\n",
      "\n",
      "QObject::moveToThread: Current thread (0x31272610) is not the object's thread (0x316cf560).\n",
      "Cannot move to target thread (0x31272610)\n",
      "\n",
      "QObject::moveToThread: Current thread (0x31272610) is not the object's thread (0x316cf560).\n",
      "Cannot move to target thread (0x31272610)\n",
      "\n",
      "QObject::moveToThread: Current thread (0x31272610) is not the object's thread (0x316cf560).\n",
      "Cannot move to target thread (0x31272610)\n",
      "\n",
      "QObject::moveToThread: Current thread (0x31272610) is not the object's thread (0x316cf560).\n",
      "Cannot move to target thread (0x31272610)\n",
      "\n",
      "QObject::moveToThread: Current thread (0x31272610) is not the object's thread (0x316cf560).\n",
      "Cannot move to target thread (0x31272610)\n",
      "\n",
      "QObject::moveToThread: Current thread (0x31272610) is not the object's thread (0x316cf560).\n",
      "Cannot move to target thread (0x31272610)\n",
      "\n",
      "QObject::moveToThread: Current thread (0x31272610) is not the object's thread (0x316cf560).\n",
      "Cannot move to target thread (0x31272610)\n",
      "\n",
      "QObject::moveToThread: Current thread (0x31272610) is not the object's thread (0x316cf560).\n",
      "Cannot move to target thread (0x31272610)\n",
      "\n",
      "QObject::moveToThread: Current thread (0x31272610) is not the object's thread (0x316cf560).\n",
      "Cannot move to target thread (0x31272610)\n",
      "\n",
      "QObject::moveToThread: Current thread (0x31272610) is not the object's thread (0x316cf560).\n",
      "Cannot move to target thread (0x31272610)\n",
      "\n",
      "QObject::moveToThread: Current thread (0x31272610) is not the object's thread (0x316cf560).\n",
      "Cannot move to target thread (0x31272610)\n",
      "\n",
      "QObject::moveToThread: Current thread (0x31272610) is not the object's thread (0x316cf560).\n",
      "Cannot move to target thread (0x31272610)\n",
      "\n",
      "QObject::moveToThread: Current thread (0x31272610) is not the object's thread (0x316cf560).\n",
      "Cannot move to target thread (0x31272610)\n",
      "\n",
      "QObject::moveToThread: Current thread (0x31272610) is not the object's thread (0x316cf560).\n",
      "Cannot move to target thread (0x31272610)\n",
      "\n",
      "QObject::moveToThread: Current thread (0x31272610) is not the object's thread (0x316cf560).\n",
      "Cannot move to target thread (0x31272610)\n",
      "\n",
      "QObject::moveToThread: Current thread (0x31272610) is not the object's thread (0x316cf560).\n",
      "Cannot move to target thread (0x31272610)\n",
      "\n",
      "QObject::moveToThread: Current thread (0x31272610) is not the object's thread (0x316cf560).\n",
      "Cannot move to target thread (0x31272610)\n",
      "\n",
      "QObject::moveToThread: Current thread (0x31272610) is not the object's thread (0x316cf560).\n",
      "Cannot move to target thread (0x31272610)\n",
      "\n",
      "QObject::moveToThread: Current thread (0x31272610) is not the object's thread (0x316cf560).\n",
      "Cannot move to target thread (0x31272610)\n",
      "\n",
      "QObject::moveToThread: Current thread (0x31272610) is not the object's thread (0x316cf560).\n",
      "Cannot move to target thread (0x31272610)\n",
      "\n",
      "QObject::moveToThread: Current thread (0x31272610) is not the object's thread (0x316cf560).\n",
      "Cannot move to target thread (0x31272610)\n",
      "\n",
      "QObject::moveToThread: Current thread (0x31272610) is not the object's thread (0x316cf560).\n",
      "Cannot move to target thread (0x31272610)\n",
      "\n",
      "QObject::moveToThread: Current thread (0x31272610) is not the object's thread (0x316cf560).\n",
      "Cannot move to target thread (0x31272610)\n",
      "\n",
      "QObject::moveToThread: Current thread (0x31272610) is not the object's thread (0x316cf560).\n",
      "Cannot move to target thread (0x31272610)\n",
      "\n",
      "QObject::moveToThread: Current thread (0x31272610) is not the object's thread (0x316cf560).\n",
      "Cannot move to target thread (0x31272610)\n",
      "\n",
      "QObject::moveToThread: Current thread (0x31272610) is not the object's thread (0x316cf560).\n",
      "Cannot move to target thread (0x31272610)\n",
      "\n",
      "QObject::moveToThread: Current thread (0x31272610) is not the object's thread (0x316cf560).\n",
      "Cannot move to target thread (0x31272610)\n",
      "\n",
      "QObject::moveToThread: Current thread (0x31272610) is not the object's thread (0x316cf560).\n",
      "Cannot move to target thread (0x31272610)\n",
      "\n",
      "QObject::moveToThread: Current thread (0x31272610) is not the object's thread (0x316cf560).\n",
      "Cannot move to target thread (0x31272610)\n",
      "\n",
      "QObject::moveToThread: Current thread (0x31272610) is not the object's thread (0x316cf560).\n",
      "Cannot move to target thread (0x31272610)\n",
      "\n",
      "QObject::moveToThread: Current thread (0x31272610) is not the object's thread (0x316cf560).\n",
      "Cannot move to target thread (0x31272610)\n",
      "\n"
     ]
    }
   ],
   "execution_count": null
  },
  {
   "metadata": {},
   "cell_type": "markdown",
   "source": "# Choose random cards",
   "id": "da358648fd67f327"
  },
  {
   "metadata": {
    "ExecuteTime": {
     "end_time": "2025-04-03T08:37:30.230712Z",
     "start_time": "2025-04-03T08:37:30.220073Z"
    }
   },
   "cell_type": "code",
   "source": [
    "with open(\"card_sets.json\", \"r\") as f:\n",
    "    card_sets = json.load(f)"
   ],
   "id": "2c7220ffd655aa39",
   "outputs": [],
   "execution_count": 5
  },
  {
   "metadata": {
    "ExecuteTime": {
     "end_time": "2025-04-03T08:44:02.523106Z",
     "start_time": "2025-04-03T08:44:02.517662Z"
    }
   },
   "cell_type": "code",
   "source": [
    "random_card = random.choice(list(card_sets.keys()))\n",
    "random_card"
   ],
   "id": "e944c2f7bea1e492",
   "outputs": [
    {
     "data": {
      "text/plain": [
       "'Code-Exporter-0-37119142'"
      ]
     },
     "execution_count": 10,
     "metadata": {},
     "output_type": "execute_result"
    }
   ],
   "execution_count": 10
  },
  {
   "metadata": {
    "ExecuteTime": {
     "end_time": "2025-04-03T08:44:03.243758Z",
     "start_time": "2025-04-03T08:44:03.236992Z"
    }
   },
   "cell_type": "code",
   "source": [
    "path = os.path.join(\"datasets/Zouloux\", random_card, random_card.split('-')[-1] + \".jpg\")\n",
    "path"
   ],
   "id": "1eb978792478b183",
   "outputs": [
    {
     "data": {
      "text/plain": [
       "'datasets/Zouloux/Code-Exporter-0-37119142/37119142.jpg'"
      ]
     },
     "execution_count": 11,
     "metadata": {},
     "output_type": "execute_result"
    }
   ],
   "execution_count": 11
  },
  {
   "metadata": {
    "ExecuteTime": {
     "end_time": "2025-04-03T14:16:12.755299Z",
     "start_time": "2025-04-03T14:16:12.740853Z"
    }
   },
   "cell_type": "code",
   "source": [
    "image = Image.open(path).convert('RGB')\n",
    "image = np.array(image)[:, :, ::-1].copy()"
   ],
   "id": "d60a1bee07c00bb",
   "outputs": [
    {
     "ename": "NameError",
     "evalue": "name 'path' is not defined",
     "output_type": "error",
     "traceback": [
      "\u001B[0;31m---------------------------------------------------------------------------\u001B[0m",
      "\u001B[0;31mNameError\u001B[0m                                 Traceback (most recent call last)",
      "Cell \u001B[0;32mIn[44], line 1\u001B[0m\n\u001B[0;32m----> 1\u001B[0m image \u001B[38;5;241m=\u001B[39m Image\u001B[38;5;241m.\u001B[39mopen(path)\u001B[38;5;241m.\u001B[39mconvert(\u001B[38;5;124m'\u001B[39m\u001B[38;5;124mRGB\u001B[39m\u001B[38;5;124m'\u001B[39m)\n\u001B[1;32m      2\u001B[0m image \u001B[38;5;241m=\u001B[39m np\u001B[38;5;241m.\u001B[39marray(image)[:, :, ::\u001B[38;5;241m-\u001B[39m\u001B[38;5;241m1\u001B[39m]\u001B[38;5;241m.\u001B[39mcopy()\n",
      "\u001B[0;31mNameError\u001B[0m: name 'path' is not defined"
     ]
    }
   ],
   "execution_count": 44
  },
  {
   "metadata": {
    "ExecuteTime": {
     "end_time": "2025-04-03T14:29:06.755815Z",
     "start_time": "2025-04-03T14:29:06.736395Z"
    }
   },
   "cell_type": "code",
   "source": [
    "image = Image.open(\"datasets/Zouloux/Abyss-Dweller-0-21044178/21044178.jpg\").convert('RGB')\n",
    "image = np.array(image)[:, :, ::-1].copy()"
   ],
   "id": "73b12dbdbe4a8249",
   "outputs": [],
   "execution_count": 59
  },
  {
   "metadata": {
    "ExecuteTime": {
     "end_time": "2025-04-03T14:16:17.258337Z",
     "start_time": "2025-04-03T14:16:17.255040Z"
    }
   },
   "cell_type": "code",
   "source": [
    "width = random.randint(75, 200)\n",
    "height = int(width * image.shape[0] / image.shape[1])\n",
    "image = cv2.resize(image, (width, height), interpolation=cv2.INTER_LINEAR)"
   ],
   "id": "948d9268f2e41378",
   "outputs": [],
   "execution_count": 46
  },
  {
   "metadata": {
    "ExecuteTime": {
     "end_time": "2025-04-03T14:29:10.000765Z",
     "start_time": "2025-04-03T14:29:09.155102Z"
    }
   },
   "cell_type": "code",
   "source": [
    "cv2.imshow(\"\", image)\n",
    "cv2.waitKey(0)\n",
    "cv2.destroyAllWindows()"
   ],
   "id": "d0cc3fc2015e6c9e",
   "outputs": [],
   "execution_count": 60
  },
  {
   "metadata": {},
   "cell_type": "markdown",
   "source": "# Change image perspective",
   "id": "706dbef11854304f"
  },
  {
   "metadata": {
    "ExecuteTime": {
     "end_time": "2025-04-03T14:29:11.790775Z",
     "start_time": "2025-04-03T14:29:11.783961Z"
    }
   },
   "cell_type": "code",
   "source": [
    "image = cv2.cvtColor(image, cv2.COLOR_BGR2BGRA)\n",
    "\n",
    "rotx = 60 * math.pi / 180\n",
    "roty = 60 * math.pi / 180\n",
    "rotz = 0 * math.pi / 180\n",
    "\n",
    "cx, cy, cz = math.cos(rotx), math.cos(roty), math.cos(rotz)\n",
    "sx, sy, sz = math.sin(rotx), math.sin(roty), math.sin(rotz)\n",
    "\n",
    "rotation = [[cz * cy, cz * sy * sx - sz * cx],\n",
    "            [sz * cy, sz * sy * sx + cz * cx],\n",
    "            [-sy, cy * sx]]\n",
    "\n",
    "pt = [[-image.shape[1] / 2, -image.shape[0] / 2],\n",
    "        [image.shape[1] / 2, -image.shape[0] / 2],\n",
    "        [image.shape[1] / 2, image.shape[0] / 2],\n",
    "        [-image.shape[1] / 2, image.shape[0] / 2]]\n",
    "\n",
    "ptt = []\n",
    "for i in range(4):\n",
    "    pz = pt[i][0] * rotation[2][0] + pt[i][1] * rotation[2][1]\n",
    "    ptt.append([image.shape[1] / 2 + (pt[i][0] * rotation[0][0] + pt[i][1] * rotation[0][1]) * 50 * image.shape[0] / (50 * image.shape[0] + pz),\n",
    "                image.shape[0] / 2 + (pt[i][0] * rotation[1][0] + pt[i][1] * rotation[1][1]) * 50 * image.shape[0] / (50 * image.shape[0] + pz)])\n",
    "\n",
    "in_pt = np.array([\n",
    "    [0, 0],\n",
    "    [image.shape[1], 0],\n",
    "    [image.shape[1], image.shape[0]],\n",
    "    [0, image.shape[0]]\n",
    "],np.float32)\n",
    "out_pt = np.array(ptt,np.float32)\n",
    "\n",
    "transform = cv2.getPerspectiveTransform(in_pt, out_pt)"
   ],
   "id": "a087bb619920328d",
   "outputs": [],
   "execution_count": 61
  },
  {
   "metadata": {
    "ExecuteTime": {
     "end_time": "2025-04-03T14:29:27.028503Z",
     "start_time": "2025-04-03T14:29:27.022991Z"
    }
   },
   "cell_type": "code",
   "source": "image = cv2.warpPerspective(image, transform, (int(max(out_pt[:, 0])-min(out_pt[:, 0])), int(max(out_pt[:, 1])-min(out_pt[:, 1]))), flags=cv2.INTER_CUBIC, borderMode=cv2.BORDER_CONSTANT, borderValue = [255, 255, 255, 0])",
   "id": "ed768c1a27c32409",
   "outputs": [],
   "execution_count": 65
  },
  {
   "metadata": {
    "ExecuteTime": {
     "end_time": "2025-04-03T14:29:29.210397Z",
     "start_time": "2025-04-03T14:29:27.538279Z"
    }
   },
   "cell_type": "code",
   "source": [
    "cv2.imshow(\"\", image)\n",
    "cv2.waitKey(0)\n",
    "cv2.destroyAllWindows()"
   ],
   "id": "5b013561ec2f0350",
   "outputs": [],
   "execution_count": 66
  },
  {
   "metadata": {},
   "cell_type": "markdown",
   "source": "# Border Handling",
   "id": "e1e4e9cef228e760"
  },
  {
   "metadata": {
    "ExecuteTime": {
     "end_time": "2025-04-03T14:42:35.343550Z",
     "start_time": "2025-04-03T14:42:32.076618Z"
    }
   },
   "cell_type": "code",
   "source": [
    "image = Image.open(\"datasets/Zouloux/Abyss-Dweller-0-21044178/21044178.jpg\").convert('RGB')\n",
    "image = np.array(image)[:, :, ::-1].copy()\n",
    "\n",
    "image = cv2.cvtColor(image, cv2.COLOR_BGR2BGRA)\n",
    "\n",
    "rotx = 60 * math.pi / 180\n",
    "roty = 60 * math.pi / 180\n",
    "rotz = 0 * math.pi / 180\n",
    "\n",
    "cx, cy, cz = math.cos(rotx), math.cos(roty), math.cos(rotz)\n",
    "sx, sy, sz = math.sin(rotx), math.sin(roty), math.sin(rotz)\n",
    "\n",
    "rotation = [[cz * cy, cz * sy * sx - sz * cx],\n",
    "            [sz * cy, sz * sy * sx + cz * cx],\n",
    "            [-sy, cy * sx]]\n",
    "\n",
    "pt = [[-image.shape[1] / 2, -image.shape[0] / 2],\n",
    "        [image.shape[1] / 2, -image.shape[0] / 2],\n",
    "        [image.shape[1] / 2, image.shape[0] / 2],\n",
    "        [-image.shape[1] / 2, image.shape[0] / 2]]\n",
    "\n",
    "ptt = []\n",
    "for i in range(4):\n",
    "    pz = pt[i][0] * rotation[2][0] + pt[i][1] * rotation[2][1]\n",
    "    ptt.append([image.shape[1] / 2 + (pt[i][0] * rotation[0][0] + pt[i][1] * rotation[0][1]) * 50 * image.shape[0] / (50 * image.shape[0] + pz),\n",
    "                image.shape[0] / 2 + (pt[i][0] * rotation[1][0] + pt[i][1] * rotation[1][1]) * 50 * image.shape[0] / (50 * image.shape[0] + pz)])\n",
    "\n",
    "in_pt = np.array([\n",
    "    [0, 0],\n",
    "    [image.shape[1], 0],\n",
    "    [image.shape[1], image.shape[0]],\n",
    "    [0, image.shape[0]]\n",
    "],np.float32)\n",
    "out_pt = np.array(ptt,np.float32)\n",
    "\n",
    "new_w = int(max(out_pt[:, 0])-min(out_pt[:, 0]))\n",
    "new_h = int(max(out_pt[:, 1])-min(out_pt[:, 1]))\n",
    "\n",
    "if min(out_pt[:, 0]) < 0:\n",
    "    out_pt[:, 0] = out_pt[:, 0] - min(out_pt[:, 0])\n",
    "if max(out_pt[:, 0]) > new_w:\n",
    "    out_pt[:, 0] = out_pt[:, 0] - max(out_pt[:, 0]) + new_w\n",
    "if min(out_pt[:, 1]) < 0:\n",
    "    out_pt[:, 1] = out_pt[:, 1] - min(out_pt[:, 1])\n",
    "if max(out_pt[:, 1]) > new_h:\n",
    "    out_pt[:, 1] = out_pt[:, 1] - max(out_pt[:, 1]) + new_h\n",
    "\n",
    "transform = cv2.getPerspectiveTransform(in_pt, out_pt)\n",
    "\n",
    "image = cv2.warpPerspective(image, transform, (new_w, new_h), flags=cv2.INTER_CUBIC, borderMode=cv2.BORDER_CONSTANT, borderValue = [255, 255, 255, 0])\n",
    "\n",
    "cv2.imshow(\"\", image)\n",
    "cv2.waitKey(0)\n",
    "cv2.destroyAllWindows()"
   ],
   "id": "7239c6d99d16f27a",
   "outputs": [],
   "execution_count": 101
  },
  {
   "metadata": {
    "ExecuteTime": {
     "end_time": "2025-04-03T14:39:51.498107Z",
     "start_time": "2025-04-03T14:39:51.495016Z"
    }
   },
   "cell_type": "code",
   "source": "image.shape",
   "id": "3cbcf34961aa73a2",
   "outputs": [
    {
     "data": {
      "text/plain": [
       "(603, 1312, 4)"
      ]
     },
     "execution_count": 99,
     "metadata": {},
     "output_type": "execute_result"
    }
   ],
   "execution_count": 99
  },
  {
   "metadata": {
    "ExecuteTime": {
     "end_time": "2025-04-03T14:39:53.466013Z",
     "start_time": "2025-04-03T14:39:53.461274Z"
    }
   },
   "cell_type": "code",
   "source": "out_pt",
   "id": "2a29bb46507a0c91",
   "outputs": [
    {
     "data": {
      "text/plain": [
       "array([[   0.     ,  300.4842 ],\n",
       "       [ 408.40765,  296.88495],\n",
       "       [1312.0034 ,  900.4858 ],\n",
       "       [ 896.45917,  896.9483 ]], dtype=float32)"
      ]
     },
     "execution_count": 100,
     "metadata": {},
     "output_type": "execute_result"
    }
   ],
   "execution_count": 100
  },
  {
   "metadata": {},
   "cell_type": "markdown",
   "source": "# Blend image",
   "id": "b8377aa97db38a25"
  },
  {
   "metadata": {
    "ExecuteTime": {
     "end_time": "2025-04-03T09:16:57.680600Z",
     "start_time": "2025-04-03T09:16:57.672662Z"
    }
   },
   "cell_type": "code",
   "source": [
    "background = next(iter(shuffled_data))[\"image\"].convert('RGB')\n",
    "background = np.array(background)[:, :, ::-1].copy()\n",
    "background = cv2.resize(background, (640, 640), interpolation=cv2.INTER_LINEAR)"
   ],
   "id": "6a17b33d2eac77fe",
   "outputs": [],
   "execution_count": 61
  },
  {
   "metadata": {
    "ExecuteTime": {
     "end_time": "2025-04-03T09:16:11.784104Z",
     "start_time": "2025-04-03T09:16:11.780492Z"
    }
   },
   "cell_type": "code",
   "source": "image = cv2.resize(image, (74, 102), interpolation=cv2.INTER_LINEAR)",
   "id": "96b95d8b4a5ba886",
   "outputs": [],
   "execution_count": 54
  },
  {
   "metadata": {
    "ExecuteTime": {
     "end_time": "2025-04-03T08:50:49.513912Z",
     "start_time": "2025-04-03T08:50:49.508439Z"
    }
   },
   "cell_type": "code",
   "source": [
    "def alphaMerge(small_foreground, background, top, left):\n",
    "\n",
    "    result = background.copy()\n",
    "\n",
    "    fg_b, fg_g, fg_r, fg_a = cv2.split(small_foreground)\n",
    "\n",
    "    fg_a = fg_a / 255.0\n",
    "\n",
    "    label_rgb = cv2.merge([fg_b * fg_a, fg_g * fg_a, fg_r * fg_a])\n",
    "\n",
    "    height, width = small_foreground.shape[0], small_foreground.shape[1]\n",
    "    part_of_bg = result[top:top + height, left:left + width, :]\n",
    "\n",
    "    bg_b, bg_g, bg_r = cv2.split(part_of_bg)\n",
    "\n",
    "    part_of_bg = cv2.merge([bg_b * (1 - fg_a), bg_g * (1 - fg_a), bg_r * (1 - fg_a)])\n",
    "\n",
    "    cv2.add(label_rgb, part_of_bg, part_of_bg)\n",
    "\n",
    "    result[top:top + height, left:left + width, :] = part_of_bg\n",
    "    return result"
   ],
   "id": "1f53fa2c2f42a053",
   "outputs": [],
   "execution_count": 41
  },
  {
   "metadata": {
    "ExecuteTime": {
     "end_time": "2025-04-03T09:17:01.352200Z",
     "start_time": "2025-04-03T09:17:01.347404Z"
    }
   },
   "cell_type": "code",
   "source": "result = alphaMerge(image, background, 100, 200)",
   "id": "d1313f8dc11ab0c1",
   "outputs": [],
   "execution_count": 62
  },
  {
   "metadata": {
    "ExecuteTime": {
     "end_time": "2025-04-03T08:51:00.466748Z",
     "start_time": "2025-04-03T08:50:54.149952Z"
    }
   },
   "cell_type": "code",
   "source": [
    "cv2.imshow(\"\", result)\n",
    "cv2.waitKey(0)\n",
    "cv2.destroyAllWindows()"
   ],
   "id": "b3725094c158a28e",
   "outputs": [],
   "execution_count": 43
  },
  {
   "metadata": {},
   "cell_type": "markdown",
   "source": "# Get Coords",
   "id": "455e147bc48c6f8f"
  },
  {
   "metadata": {
    "ExecuteTime": {
     "end_time": "2025-04-03T08:56:55.007882Z",
     "start_time": "2025-04-03T08:56:55.004081Z"
    }
   },
   "cell_type": "code",
   "source": "test = cv2.line(result, (0, 100), (result.shape[1], 100), (0, 255, 0), thickness=3, lineType=8)",
   "id": "9990b80e35bbbfec",
   "outputs": [],
   "execution_count": 48
  },
  {
   "metadata": {
    "ExecuteTime": {
     "end_time": "2025-04-03T09:16:27.007334Z",
     "start_time": "2025-04-03T09:16:27.002175Z"
    }
   },
   "cell_type": "code",
   "source": "out_pt",
   "id": "50329da3a28b1d6a",
   "outputs": [
    {
     "data": {
      "text/plain": [
       "array([[75.39293  , 98.79472  ],\n",
       "       [23.065952 , 99.288826 ],\n",
       "       [-1.601704 ,  2.9453743],\n",
       "       [50.725266 ,  3.4347198]], dtype=float32)"
      ]
     },
     "execution_count": 58,
     "metadata": {},
     "output_type": "execute_result"
    }
   ],
   "execution_count": 58
  },
  {
   "metadata": {
    "ExecuteTime": {
     "end_time": "2025-04-03T09:20:14.887824Z",
     "start_time": "2025-04-03T09:20:14.880818Z"
    }
   },
   "cell_type": "code",
   "source": [
    "background = next(iter(shuffled_data))[\"image\"].convert('RGB')\n",
    "background = np.array(background)[:, :, ::-1].copy()\n",
    "background = cv2.resize(background, (640, 640), interpolation=cv2.INTER_LINEAR)"
   ],
   "id": "e36f104b9e6f9e22",
   "outputs": [],
   "execution_count": 79
  },
  {
   "metadata": {
    "ExecuteTime": {
     "end_time": "2025-04-03T09:20:16.896410Z",
     "start_time": "2025-04-03T09:20:16.891487Z"
    }
   },
   "cell_type": "code",
   "source": "result = alphaMerge(image, background, 100, 200)",
   "id": "67b952b3a6cf99e9",
   "outputs": [],
   "execution_count": 80
  },
  {
   "metadata": {
    "ExecuteTime": {
     "end_time": "2025-04-03T09:20:38.329198Z",
     "start_time": "2025-04-03T09:20:38.323593Z"
    }
   },
   "cell_type": "code",
   "source": [
    "result = cv2.line(result, (int(200+out_pt[2, 0]), int(100+out_pt[2, 1])), (int(200+out_pt[1, 0]), int(100+out_pt[1, 1])), (0, 255, 0), thickness=2, lineType=8)\n",
    "result = cv2.line(result, (int(200+out_pt[2, 0]), int(100+out_pt[2, 1])), (int(200+out_pt[3, 0]), int(100+out_pt[3, 1])), (255, 255, 0), thickness=2, lineType=8)\n",
    "result = cv2.line(result, (int(200+out_pt[0, 0]), int(100+out_pt[0, 1])), (int(200+out_pt[1, 0]), int(100+out_pt[1, 1])), (255, 0, 0), thickness=2, lineType=8)\n",
    "result = cv2.line(result, (int(200+out_pt[0, 0]), int(100+out_pt[0, 1])), (int(200+out_pt[3, 0]), int(100+out_pt[3, 1])), (0, 0, 255), thickness=2, lineType=8)"
   ],
   "id": "db6c1a0afafd34b",
   "outputs": [],
   "execution_count": 81
  },
  {
   "metadata": {
    "ExecuteTime": {
     "end_time": "2025-04-03T09:20:50.761446Z",
     "start_time": "2025-04-03T09:20:39.641805Z"
    }
   },
   "cell_type": "code",
   "source": [
    "cv2.imshow(\"\", result)\n",
    "cv2.waitKey(0)\n",
    "cv2.destroyAllWindows()"
   ],
   "id": "6f0fdb655204bf07",
   "outputs": [],
   "execution_count": 82
  }
 ],
 "metadata": {
  "kernelspec": {
   "display_name": "Python 3",
   "language": "python",
   "name": "python3"
  },
  "language_info": {
   "codemirror_mode": {
    "name": "ipython",
    "version": 2
   },
   "file_extension": ".py",
   "mimetype": "text/x-python",
   "name": "python",
   "nbconvert_exporter": "python",
   "pygments_lexer": "ipython2",
   "version": "2.7.6"
  }
 },
 "nbformat": 4,
 "nbformat_minor": 5
}
