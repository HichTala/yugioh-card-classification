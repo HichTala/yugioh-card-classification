{
 "cells": [
  {
   "metadata": {},
   "cell_type": "code",
   "outputs": [],
   "execution_count": null,
   "source": [
    "import argparse\n",
    "import os\n",
    "import pickle\n",
    "\n",
    "import cv2\n",
    "import imagehash\n",
    "import numpy as np\n",
    "from PIL import Image\n",
    "from matplotlib import pyplot as plt\n",
    "from torch import load\n",
    "from torch.cuda import is_available\n",
    "from tqdm import tqdm\n",
    "\n",
    "from src.resnet import ResNet\n",
    "from src.tools import art_cropper\n",
    "from src.transformations import final_data_transforms\n",
    "from scipy.ndimage import rotate\n",
    "from skimage.transform import rotate\n",
    "from skimage.feature import local_binary_pattern\n",
    "from skimage import data\n",
    "from skimage.color import label2rgb\n"
   ],
   "id": "18629529b9eb153f"
  },
  {
   "metadata": {},
   "cell_type": "code",
   "outputs": [],
   "execution_count": null,
   "source": [
    "img = Image.open(\"output/Divine-Arsenal-AA-ZEUS---Sky-Thunder-3119-90448279/90448279.jpg\")\n",
    "img = art_cropper(img)\n",
    "img = np.array(img)\n",
    "img = img[:, :, ::-1].copy()"
   ],
   "id": "f5340ed6d0ae023b"
  },
  {
   "metadata": {},
   "cell_type": "code",
   "outputs": [],
   "execution_count": null,
   "source": [
    "clahe = cv2.createCLAHE(clipLimit=2.0,\n",
    "                        tileGridSize=(8, 8))"
   ],
   "id": "1ad2a9f3bd26f1f9"
  },
  {
   "metadata": {},
   "cell_type": "code",
   "outputs": [],
   "execution_count": null,
   "source": [
    "class ReferenceImage:\n",
    "    \"\"\"\n",
    "    Container for a card image and the associated recoginition data.\n",
    "    \"\"\"\n",
    "\n",
    "    def __init__(self, name, original_image, clahe, phash=None):\n",
    "        self.name = name\n",
    "        self.original = original_image[71:275, 32:236]\n",
    "        self.clahe = clahe\n",
    "        self.adjusted = None\n",
    "        self.phash = phash\n",
    "\n",
    "        if self.original is not None:\n",
    "            self.histogram_adjust()\n",
    "            self.calculate_phash()\n",
    "\n",
    "    def calculate_phash(self):\n",
    "        \"\"\"\n",
    "        Calculates the perceptive hash for the image\n",
    "        \"\"\"\n",
    "        self.phash = imagehash.phash(\n",
    "            Image.fromarray(np.uint8(255 * cv2.cvtColor(\n",
    "                self.adjusted, cv2.COLOR_BGR2RGB))),\n",
    "            hash_size=32)\n",
    "\n",
    "    def histogram_adjust(self):\n",
    "        \"\"\"\n",
    "        Adjusts the image by contrast limited histogram adjustmend (clahe)\n",
    "        \"\"\"\n",
    "        lab = cv2.cvtColor(self.original, cv2.COLOR_BGR2LAB)\n",
    "        lightness, redness, yellowness = cv2.split(lab)\n",
    "        corrected_lightness = self.clahe.apply(lightness)\n",
    "        limg = cv2.merge((corrected_lightness, redness, yellowness))\n",
    "        self.adjusted = cv2.cvtColor(limg, cv2.COLOR_LAB2BGR)"
   ],
   "id": "728c6a857e279ae0"
  },
  {
   "metadata": {},
   "cell_type": "code",
   "outputs": [],
   "execution_count": null,
   "source": [
    "def histogram_adjust(image):\n",
    "    \"\"\"\n",
    "    Adjusts the image by contrast limited histogram adjustmend (clahe)\n",
    "    \"\"\"\n",
    "    lab = cv2.cvtColor(image, cv2.COLOR_BGR2LAB)\n",
    "    lightness, redness, yellowness = cv2.split(lab)\n",
    "    corrected_lightness = clahe.apply(lightness)\n",
    "    limg = cv2.merge((corrected_lightness, redness, yellowness))\n",
    "    return cv2.cvtColor(limg, cv2.COLOR_LAB2BGR)"
   ],
   "id": "44851d75f1cc5f92"
  },
  {
   "metadata": {},
   "cell_type": "code",
   "outputs": [],
   "execution_count": null,
   "source": [
    "maxsize = 1000\n",
    "\n",
    "target = cv2.imread(\"output.png\")\n",
    "target = cv2.resize(target, (204, 204), interpolation=cv2.INTER_LINEAR)\n",
    "if min(target.shape[0], target.shape[1]) > maxsize:\n",
    "    scalef = maxsize / min(target.shape[0], target.shape[1])\n",
    "    img = cv2.resize(target,\n",
    "                     (int(target.shape[1] * scalef),\n",
    "                      int(target.shape[0] * scalef)),\n",
    "                     interpolation=cv2.INTER_AREA)\n",
    "\n",
    "test_image = histogram_adjust(target)"
   ],
   "id": "19047ce8cadd1ae8"
  },
  {
   "metadata": {},
   "cell_type": "code",
   "outputs": [],
   "execution_count": null,
   "source": [
    "reference_images = []\n",
    "with tqdm(total=11688, desc=\"Saving pickles\", colour='cyan') as pbar:\n",
    "    for subdir, dirs, files in os.walk(\"./output/\"):\n",
    "        for file in files:\n",
    "            pbar.update(1)\n",
    "            abs_file_path = os.path.join(subdir, file)\n",
    "\n",
    "            img = cv2.imread(abs_file_path)\n",
    "            img_name = subdir\n",
    "            reference_images.append(\n",
    "                ReferenceImage(img_name, img, clahe))"
   ],
   "id": "e29b4d77d6f97982"
  },
  {
   "metadata": {},
   "cell_type": "code",
   "outputs": [],
   "execution_count": null,
   "source": [
    "def phash_diff(target, references):\n",
    "        \"\"\"\n",
    "        Calculates the phash difference between the given phash and\n",
    "        each of the reference images.\n",
    "        \"\"\"\n",
    "        diff = np.zeros(len(references))\n",
    "        for i, ref_im in enumerate(references):\n",
    "            diff[i] = target - ref_im.phash\n",
    "        return diff"
   ],
   "id": "2d5f248b83662cb0"
  },
  {
   "metadata": {},
   "cell_type": "code",
   "outputs": [],
   "execution_count": null,
   "source": [
    "rotations = np.array([0., 90., 180., 270.])\n",
    "\n",
    "d_0_dist = np.zeros(len(rotations))\n",
    "d_0 = np.zeros((len(reference_images), len(rotations)))\n",
    "\n",
    "for j, rot in enumerate(rotations):\n",
    "    if not -1.e-5 < rot < 1.e-5:\n",
    "        phash_im = imagehash.phash(\n",
    "            Image.fromarray(np.uint8(255 * cv2.cvtColor(\n",
    "                rotate(test_image, rot), cv2.COLOR_BGR2RGB))),\n",
    "            hash_size=32)\n",
    "    else:\n",
    "        phash_im = imagehash.phash(\n",
    "            Image.fromarray(np.uint8(255 * cv2.cvtColor(\n",
    "                test_image, cv2.COLOR_BGR2RGB))),\n",
    "            hash_size=32)\n",
    "\n",
    "    d_0[:, j] = phash_diff(phash_im, reference_images)\n",
    "    d_0_ = d_0[d_0[:, j] > np.amin(d_0[:, j]), j]\n",
    "    d_0_ave = np.average(d_0_)\n",
    "    d_0_std = np.std(d_0_)\n",
    "    d_0_dist[j] = (d_0_ave - np.amin(d_0[:, j])) / d_0_std\n",
    "    # if (d_0_dist[j] > 4 and\n",
    "    #     np.argmax(d_0_dist) == j):\n",
    "    card_name = reference_images[np.argmin(d_0[:, j])].name\n",
    "    is_recognized = True\n",
    "    recognition_score = d_0_dist[j] / 4\n",
    "    print(recognition_score, card_name)"
   ],
   "id": "6f17392a46b63ac2"
  },
  {
   "metadata": {},
   "cell_type": "code",
   "outputs": [],
   "execution_count": null,
   "source": "d_0",
   "id": "2d48d2acc643fd79"
  },
  {
   "metadata": {},
   "cell_type": "code",
   "outputs": [],
   "execution_count": null,
   "source": "sorted(d_0[:, 1])[:100]",
   "id": "d8d8f529172227d5"
  },
  {
   "metadata": {},
   "cell_type": "code",
   "outputs": [],
   "execution_count": null,
   "source": "(is_recognized, recognition_score, card_name)",
   "id": "a89048036903e6c0"
  },
  {
   "metadata": {},
   "cell_type": "code",
   "outputs": [],
   "execution_count": null,
   "source": [
    "for j, ref in enumerate(reference_images):\n",
    "    if ref.name == \"./output/Mermail-Abysslung-0-95466842\":\n",
    "        print(j)"
   ],
   "id": "d64aa3b8e5956e6f"
  },
  {
   "metadata": {},
   "cell_type": "code",
   "outputs": [],
   "execution_count": null,
   "source": [
    "phash_im = imagehash.phash(\n",
    "    Image.fromarray(np.uint8(255 * cv2.cvtColor(\n",
    "        test_image, cv2.COLOR_BGR2RGB))),\n",
    "    hash_size=32)"
   ],
   "id": "819f6956f9208bb7"
  },
  {
   "metadata": {},
   "cell_type": "code",
   "outputs": [],
   "execution_count": null,
   "source": "phash_im - reference_images[8042].phash",
   "id": "7ed64cd2c58e8acc"
  },
  {
   "metadata": {},
   "cell_type": "code",
   "outputs": [],
   "execution_count": null,
   "source": [
    "\n",
    "phash_im - reference_images[450].phash"
   ],
   "id": "daa455918c99e0c6"
  },
  {
   "metadata": {},
   "cell_type": "code",
   "outputs": [],
   "execution_count": null,
   "source": [
    "cv2.imshow(\"\", test_image)\n",
    "cv2.waitKey(0)\n",
    "cv2.destroyAllWindows()"
   ],
   "id": "833521b83ad37cfb"
  },
  {
   "metadata": {},
   "cell_type": "code",
   "outputs": [],
   "execution_count": null,
   "source": [
    "cv2.imshow(\"\", reference_images[8042].adjusted)\n",
    "cv2.waitKey(0)\n",
    "cv2.destroyAllWindows()"
   ],
   "id": "f4a5fcdd098d4a89"
  },
  {
   "metadata": {},
   "cell_type": "code",
   "outputs": [],
   "execution_count": null,
   "source": [
    "# settings for LBP\n",
    "radius = 3\n",
    "n_points = 8 * radius"
   ],
   "id": "f7f0732b8eabce56"
  },
  {
   "metadata": {},
   "cell_type": "code",
   "outputs": [],
   "execution_count": null,
   "source": [
    "def overlay_labels(image, lbp, labels):\n",
    "    mask = np.logical_or.reduce([lbp == each for each in labels])\n",
    "    return label2rgb(mask, image=image, bg_label=0, alpha=0.5)"
   ],
   "id": "d9ecd88945ad9206"
  },
  {
   "metadata": {},
   "cell_type": "code",
   "outputs": [],
   "execution_count": null,
   "source": [
    "def highlight_bars(bars, indexes):\n",
    "    for i in indexes:\n",
    "        bars[i].set_facecolor('r')"
   ],
   "id": "328dfb0e1a7104b4"
  },
  {
   "metadata": {},
   "cell_type": "code",
   "outputs": [],
   "execution_count": null,
   "source": [
    "image = cv2.cvtColor(test_image, cv2.COLOR_BGR2GRAY)\n",
    "lbp = local_binary_pattern(image, n_points, radius)"
   ],
   "id": "deef514f9f2c925d"
  },
  {
   "metadata": {},
   "cell_type": "code",
   "outputs": [],
   "execution_count": null,
   "source": [
    "def hist(ax, lbp):\n",
    "    n_bins = int(lbp.max() + 1)\n",
    "    return ax.hist(\n",
    "        lbp.ravel(), density=True, bins=n_bins, range=(0, n_bins), facecolor='0.5'\n",
    "    )"
   ],
   "id": "c1197ed0d733a0d9"
  },
  {
   "metadata": {},
   "cell_type": "code",
   "outputs": [],
   "execution_count": null,
   "source": [
    "fig, (ax_img, ax_hist) = plt.subplots(nrows=2, ncols=3, figsize=(9, 6))\n",
    "plt.gray()\n",
    "\n",
    "titles = ('edge', 'flat', 'corner')\n",
    "w = width = radius - 1\n",
    "edge_labels = range(n_points // 2 - w, n_points // 2 + w + 1)\n",
    "flat_labels = list(range(0, w + 1)) + list(range(n_points - w, n_points + 2))\n",
    "i_14 = n_points // 4  # 1/4th of the histogram\n",
    "i_34 = 3 * (n_points // 4)  # 3/4th of the histogram\n",
    "corner_labels = list(range(i_14 - w, i_14 + w + 1)) + list(\n",
    "    range(i_34 - w, i_34 + w + 1)\n",
    ")\n",
    "\n",
    "label_sets = (edge_labels, flat_labels, corner_labels)\n",
    "\n",
    "for ax, labels in zip(ax_img, label_sets):\n",
    "    ax.imshow(overlay_labels(image, lbp, labels))\n",
    "\n",
    "for ax, labels, name in zip(ax_hist, label_sets, titles):\n",
    "    counts, _, bars = hist(ax, lbp)\n",
    "    highlight_bars(bars, labels)\n",
    "    ax.set_ylim(top=np.max(counts[:-1]))\n",
    "    ax.set_xlim(right=n_points + 2)\n",
    "    ax.set_title(name)\n",
    "\n",
    "ax_hist[0].set_ylabel('Percentage')\n",
    "for ax in ax_img:\n",
    "    ax.axis('off')"
   ],
   "id": "6a456d206e58d508"
  },
  {
   "metadata": {},
   "cell_type": "code",
   "outputs": [],
   "execution_count": null,
   "source": [
    "radius = 2\n",
    "n_points = 8 * radius"
   ],
   "id": "e14516c7a37b7b13"
  },
  {
   "metadata": {},
   "cell_type": "code",
   "outputs": [],
   "execution_count": null,
   "source": [
    "def kullback_leibler_divergence(p, q):\n",
    "    p = np.asarray(p)\n",
    "    q = np.asarray(q)\n",
    "    filt = np.logical_and(p != 0, q != 0)\n",
    "    return np.sum(p[filt] * np.log2(p[filt] / q[filt]))"
   ],
   "id": "8e48276f82cebb3a"
  },
  {
   "metadata": {},
   "cell_type": "code",
   "outputs": [],
   "execution_count": null,
   "source": [
    "def match(refs, img):\n",
    "    best_score = 10\n",
    "    best_name = None\n",
    "    lbp = local_binary_pattern(img, n_points, radius)\n",
    "    n_bins = int(lbp.max() + 1)\n",
    "    hist, _ = np.histogram(lbp, density=True, bins=n_bins, range=(0, n_bins))\n",
    "    for name, ref in refs.items():\n",
    "        ref_hist, _ = np.histogram(ref, density=True, bins=n_bins, range=(0, n_bins))\n",
    "        score = kullback_leibler_divergence(hist, ref_hist)\n",
    "        if score < best_score:\n",
    "            best_score = score\n",
    "            best_name = name\n",
    "    return best_name"
   ],
   "id": "2d0ef18ca7134f9f"
  },
  {
   "metadata": {},
   "cell_type": "code",
   "outputs": [],
   "execution_count": null,
   "source": "",
   "id": "b46a88b9fb8b57db"
  },
  {
   "metadata": {},
   "cell_type": "code",
   "outputs": [],
   "execution_count": null,
   "source": [
    "brick = test_image[:, :, 0]\n",
    "grass = reference_images[450].adjusted[:, :, 0]\n",
    "gravel = reference_images[8042].adjusted[:, :, 0]"
   ],
   "id": "4084fdcf66446c6"
  },
  {
   "metadata": {},
   "cell_type": "code",
   "outputs": [],
   "execution_count": null,
   "source": [
    "cv2.imshow(\"\", gravel)\n",
    "cv2.waitKey(0)\n",
    "cv2.destroyAllWindows()"
   ],
   "id": "6923807d85f3b8fa"
  },
  {
   "metadata": {},
   "cell_type": "code",
   "outputs": [],
   "execution_count": null,
   "source": [
    "refs = {\n",
    "    # 'brick': local_binary_pattern(brick, n_points, radius),\n",
    "    'grass': local_binary_pattern(grass, n_points, radius),\n",
    "    'gravel': local_binary_pattern(gravel, n_points, radius),\n",
    "}"
   ],
   "id": "2e57252acf7ace1a"
  },
  {
   "metadata": {},
   "cell_type": "code",
   "outputs": [],
   "execution_count": null,
   "source": "match(refs, brick)",
   "id": "6a9dd42a60f561f3"
  },
  {
   "metadata": {},
   "cell_type": "code",
   "outputs": [],
   "execution_count": null,
   "source": [
    "print('Rotated images matched against references using LBP:')\n",
    "print(\n",
    "    'original: brick, rotated: 30deg, match result: ',\n",
    "    match(refs, rotate(brick, angle=0, resize=False)),\n",
    ")\n",
    "print(\n",
    "    'original: brick, rotated: 70deg, match result: ',\n",
    "    match(refs, rotate(brick, angle=70, resize=False)),\n",
    ")\n",
    "print(\n",
    "    'original: grass, rotated: 145deg, match result: ',\n",
    "    match(refs, rotate(grass, angle=0, resize=False)),\n",
    ")"
   ],
   "id": "39ec2e83ba454c5d"
  },
  {
   "metadata": {},
   "cell_type": "code",
   "outputs": [],
   "execution_count": null,
   "source": [
    "fig, ((ax1, ax2, ax3), (ax4, ax5, ax6)) = plt.subplots(nrows=2, ncols=3, figsize=(9, 6))\n",
    "plt.gray()\n",
    "\n",
    "ax1.imshow(brick)\n",
    "ax1.axis('off')\n",
    "hist(ax4, refs['brick'])\n",
    "ax4.set_ylabel('Percentage')\n",
    "\n",
    "ax2.imshow(grass)\n",
    "ax2.axis('off')\n",
    "hist(ax5, refs['grass'])\n",
    "ax5.set_xlabel('Uniform LBP values')\n",
    "\n",
    "ax3.imshow(gravel)\n",
    "ax3.axis('off')\n",
    "hist(ax6, refs['gravel'])\n",
    "\n",
    "plt.show()"
   ],
   "id": "8b73cd20b75e0ccd"
  },
  {
   "metadata": {},
   "cell_type": "code",
   "outputs": [],
   "execution_count": null,
   "source": "brick",
   "id": "bec6a4660483a598"
  }
 ],
 "metadata": {},
 "nbformat": 5,
 "nbformat_minor": 9
}
